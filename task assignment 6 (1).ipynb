{
 "cells": [
  {
   "cell_type": "markdown",
   "id": "4219b10e-02b4-41d7-9586-bebea92cc515",
   "metadata": {},
   "source": [
    "## 1.init method"
   ]
  },
  {
   "cell_type": "code",
   "execution_count": 28,
   "id": "8b2692a8-93bb-41d6-8652-c92e8d66b595",
   "metadata": {},
   "outputs": [],
   "source": [
    "class vehicle:\n",
    "    #constructor\n",
    "    \n",
    "    def __init__(self,name,speed):\n",
    "        #instance variable\n",
    "        self.name = vehicle\n",
    "        self.max_speed = max_speed\n",
    "        self.average_speed = average_speed \n",
    "        \n",
    "        \n",
    "    def set__speed (self,speed):\n",
    "        self.__speed = 0 if speed < 0 else speed\n",
    "        \n",
    "        \n",
    "    def get__speed(speed):\n",
    "        return self.__speed\n"
   ]
  },
  {
   "cell_type": "code",
   "execution_count": 13,
   "id": "3170d10e-eb7f-4454-b588-b8159c41df64",
   "metadata": {},
   "outputs": [],
   "source": [
    "obj_vehicle = (\"bike\", 80, 0)\n",
    "                   \n"
   ]
  },
  {
   "cell_type": "code",
   "execution_count": 19,
   "id": "399204ff-abd9-41c5-a95b-1404df9680ff",
   "metadata": {},
   "outputs": [
    {
     "data": {
      "text/plain": [
       "<function tuple.count(value, /)>"
      ]
     },
     "execution_count": 19,
     "metadata": {},
     "output_type": "execute_result"
    }
   ],
   "source": [
    "obj_vehicle.count\n"
   ]
  },
  {
   "cell_type": "code",
   "execution_count": 22,
   "id": "80f93aa5-c681-4e63-929b-06ececabde18",
   "metadata": {},
   "outputs": [
    {
     "data": {
      "text/plain": [
       "<function tuple.index(value, start=0, stop=9223372036854775807, /)>"
      ]
     },
     "execution_count": 22,
     "metadata": {},
     "output_type": "execute_result"
    }
   ],
   "source": [
    "obj_vehicle.index"
   ]
  },
  {
   "cell_type": "markdown",
   "id": "1cab6920-395a-40d5-a0d6-6152f6367072",
   "metadata": {},
   "source": [
    "## 2.child class"
   ]
  },
  {
   "cell_type": "code",
   "execution_count": 9,
   "id": "848fac69-a1c4-42b4-bbc7-a7e5aece96d5",
   "metadata": {},
   "outputs": [
    {
     "name": "stdout",
     "output_type": "stream",
     "text": [
      "the vehicle name is car\n",
      "the capacity of car is:5\n"
     ]
    }
   ],
   "source": [
    "class vehicle:\n",
    "    def __init__(self,name,max_speed,milege,capacity):\n",
    "        self.name = name\n",
    "        self.max_speed = max_speed\n",
    "        self.milege = milege\n",
    "        self.capacity = capacity\n",
    "        \n",
    "    def seating_capacity(self,capacity):\n",
    "        return f\"The seating capacity of a {self.name}is {capacity} passengers\"\n",
    "    \n",
    "    \n",
    "class car(vehicle):\n",
    "    print(\"the vehicle name is car\")\n",
    "    \n",
    "    \n",
    "class capacity(vehicle):\n",
    "    print(\"the capacity of car is:5\")"
   ]
  },
  {
   "cell_type": "markdown",
   "id": "6c1f4139-540b-4511-849c-c198b12e2be1",
   "metadata": {},
   "source": [
    "## 3.multiple inheritance"
   ]
  },
  {
   "cell_type": "code",
   "execution_count": null,
   "id": "c9f54d70-d1a8-40d4-b4d1-8ff3091db39b",
   "metadata": {},
   "outputs": [],
   "source": [
    " If a child class is inheriting the properties of a single other class, we call it single inheritance. However, if a child \n",
    "class  inherits from more than one class, i.e. this child class is derived from multiple classes, we call it multiple\n",
    "inheritance in Python."
   ]
  },
  {
   "cell_type": "code",
   "execution_count": 10,
   "id": "39df2dc9-25ba-4854-923d-ddf2fca4924a",
   "metadata": {},
   "outputs": [
    {
     "name": "stdout",
     "output_type": "stream",
     "text": [
      "In Class3\n"
     ]
    }
   ],
   "source": [
    "# Python Program to depict multiple inheritance\n",
    "# when method is overridden in one of the classes\n",
    "\n",
    "class Class1:\n",
    "\tdef m(self):\n",
    "\t\tprint(\"In Class1\")\n",
    "\t\n",
    "class Class2(Class1):\n",
    "\tpass\n",
    "\n",
    "class Class3(Class1):\n",
    "\tdef m(self):\n",
    "\t\tprint(\"In Class3\")\n",
    "\t\n",
    "class Class4(Class2, Class3):\n",
    "\tpass\t\n",
    "\n",
    "obj = Class4()\n",
    "obj.m()\n"
   ]
  },
  {
   "cell_type": "markdown",
   "id": "7b4aef99-d44d-404a-bf8d-06dd1ff43033",
   "metadata": {},
   "source": [
    "## 4.getter and setter"
   ]
  },
  {
   "cell_type": "code",
   "execution_count": null,
   "id": "6bea1217-9746-47b9-805d-0024c963803c",
   "metadata": {},
   "outputs": [],
   "source": [
    "Getter: A method that allows you to access an attribute in a given class. Setter: A method that allows you to set or mutate \n",
    "the value of an attribute in a class."
   ]
  },
  {
   "cell_type": "code",
   "execution_count": 21,
   "id": "60c7067c-6d3d-46f6-a048-62e3fa975393",
   "metadata": {},
   "outputs": [
    {
     "name": "stdout",
     "output_type": "stream",
     "text": [
      "21\n",
      "21\n"
     ]
    }
   ],
   "source": [
    "# Python program showing a use\n",
    "# of get() and set() method in\n",
    "# normal function\n",
    "\n",
    "class Geek:\n",
    "\tdef __init__(self, age = 0):\n",
    "\t\tself._age = age\n",
    "\t\n",
    "\t# getter method\n",
    "\tdef get_age(self):\n",
    "\t\treturn self._age\n",
    "\t\n",
    "\t# setter method\n",
    "\tdef set_age(self, x):\n",
    "\t\tself._age = x\n",
    "\n",
    "raj = Geek()\n",
    "\n",
    "# setting the age using setter\n",
    "raj.set_age(21)\n",
    "\n",
    "# retrieving age using getter\n",
    "print(raj.get_age())\n",
    "\n",
    "print(raj._age)\n"
   ]
  },
  {
   "cell_type": "markdown",
   "id": "412f5425-53c4-4dbe-b76a-d99629bf7849",
   "metadata": {},
   "source": [
    "## 5.method overriding"
   ]
  },
  {
   "cell_type": "code",
   "execution_count": null,
   "id": "e55bc6c0-4f55-48fd-9363-836fbf8cafcf",
   "metadata": {},
   "outputs": [],
   "source": [
    "Method overriding is a feature of object-oriented programming languages where the subclass or child class can provide the\n",
    "program with specific characteristics or a specific implementation process of data provided that are already defined in the\n",
    "parent class or superclass."
   ]
  },
  {
   "cell_type": "code",
   "execution_count": 22,
   "id": "9e491812-b872-4f89-95b4-27d417d34102",
   "metadata": {},
   "outputs": [
    {
     "name": "stdout",
     "output_type": "stream",
     "text": [
      "Inside Parent\n",
      "Inside Child\n"
     ]
    }
   ],
   "source": [
    "# Python program to demonstrate\n",
    "# method overriding\n",
    "\n",
    "\n",
    "# Defining parent class\n",
    "class Parent():\n",
    "\t\n",
    "\t# Constructor\n",
    "\tdef __init__(self):\n",
    "\t\tself.value = \"Inside Parent\"\n",
    "\t\t\n",
    "\t# Parent's show method\n",
    "\tdef show(self):\n",
    "\t\tprint(self.value)\n",
    "\t\t\n",
    "# Defining child class\n",
    "class Child(Parent):\n",
    "\t\n",
    "\t# Constructor\n",
    "\tdef __init__(self):\n",
    "\t\tself.value = \"Inside Child\"\n",
    "\t\t\n",
    "\t# Child's show method\n",
    "\tdef show(self):\n",
    "\t\tprint(self.value)\n",
    "\t\t\n",
    "\t\t\n",
    "# Driver's code\n",
    "obj1 = Parent()\n",
    "obj2 = Child()\n",
    "\n",
    "obj1.show()\n",
    "obj2.show()"
   ]
  }
 ],
 "metadata": {
  "kernelspec": {
   "display_name": "Python 3 (ipykernel)",
   "language": "python",
   "name": "python3"
  },
  "language_info": {
   "codemirror_mode": {
    "name": "ipython",
    "version": 3
   },
   "file_extension": ".py",
   "mimetype": "text/x-python",
   "name": "python",
   "nbconvert_exporter": "python",
   "pygments_lexer": "ipython3",
   "version": "3.10.8"
  }
 },
 "nbformat": 4,
 "nbformat_minor": 5
}
